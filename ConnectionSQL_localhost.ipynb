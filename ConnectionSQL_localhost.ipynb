{
 "cells": [
  {
   "cell_type": "markdown",
   "metadata": {},
   "source": [
    "# Connect to MSSQL"
   ]
  },
  {
   "cell_type": "code",
   "execution_count": 1,
   "metadata": {
    "ExecuteTime": {
     "end_time": "2019-05-06T09:56:22.036079Z",
     "start_time": "2019-05-06T09:56:21.975159Z"
    },
    "scrolled": true
   },
   "outputs": [],
   "source": [
    "import pyodbc \n",
    "conn = pyodbc.connect('Driver={SQL Server Native Client 11.0};'\n",
    "                      'Server=localhost;'\n",
    "                      'Database=data_modeling;'\n",
    "                      'Trusted_Connection=yes;')"
   ]
  },
  {
   "cell_type": "code",
   "execution_count": 2,
   "metadata": {
    "ExecuteTime": {
     "end_time": "2019-05-06T09:56:22.902349Z",
     "start_time": "2019-05-06T09:56:22.885876Z"
    }
   },
   "outputs": [
    {
     "data": {
      "text/plain": [
       "<pyodbc.Cursor at 0x238208da4e0>"
      ]
     },
     "execution_count": 2,
     "metadata": {},
     "output_type": "execute_result"
    }
   ],
   "source": [
    "cursor = conn.cursor()\n",
    "cursor.execute('SELECT * FROM data_modeling.dbo.dim_marketing')"
   ]
  },
  {
   "cell_type": "code",
   "execution_count": 17,
   "metadata": {
    "ExecuteTime": {
     "end_time": "2019-05-06T10:05:04.014184Z",
     "start_time": "2019-05-06T10:05:03.749570Z"
    }
   },
   "outputs": [
    {
     "name": "stdout",
     "output_type": "stream",
     "text": [
      "churn\n",
      "dim_marketing\n",
      "sysdiagrams\n",
      "titanic\n",
      "trace_xe_action_map\n",
      "trace_xe_event_map\n",
      "CHECK_CONSTRAINTS\n",
      "COLUMN_DOMAIN_USAGE\n",
      "COLUMN_PRIVILEGES\n",
      "COLUMNS\n",
      "CONSTRAINT_COLUMN_USAGE\n",
      "CONSTRAINT_TABLE_USAGE\n",
      "DOMAIN_CONSTRAINTS\n",
      "DOMAINS\n",
      "KEY_COLUMN_USAGE\n",
      "PARAMETERS\n",
      "REFERENTIAL_CONSTRAINTS\n",
      "ROUTINE_COLUMNS\n",
      "ROUTINES\n",
      "SCHEMATA\n",
      "SEQUENCES\n",
      "TABLE_CONSTRAINTS\n",
      "TABLE_PRIVILEGES\n",
      "TABLES\n",
      "VIEW_COLUMN_USAGE\n",
      "VIEW_TABLE_USAGE\n",
      "VIEWS\n",
      "all_columns\n",
      "all_objects\n",
      "all_parameters\n",
      "all_sql_modules\n",
      "all_views\n",
      "allocation_units\n",
      "assemblies\n",
      "assembly_files\n",
      "assembly_modules\n",
      "assembly_references\n",
      "assembly_types\n",
      "asymmetric_keys\n",
      "availability_databases_cluster\n",
      "availability_group_listener_ip_addresses\n",
      "availability_group_listeners\n",
      "availability_groups\n",
      "availability_groups_cluster\n",
      "availability_read_only_routing_lists\n",
      "availability_replicas\n",
      "backup_devices\n",
      "certificates\n",
      "change_tracking_databases\n",
      "change_tracking_tables\n",
      "check_constraints\n",
      "column_encryption_key_values\n",
      "column_encryption_keys\n",
      "column_master_keys\n",
      "column_store_dictionaries\n",
      "column_store_row_groups\n",
      "column_store_segments\n",
      "column_type_usages\n",
      "column_xml_schema_collection_usages\n",
      "columns\n",
      "computed_columns\n",
      "configurations\n",
      "conversation_endpoints\n",
      "conversation_groups\n",
      "conversation_priorities\n",
      "credentials\n",
      "crypt_properties\n",
      "cryptographic_providers\n",
      "data_spaces\n",
      "database_audit_specification_details\n",
      "database_audit_specifications\n",
      "database_automatic_tuning_mode\n",
      "database_automatic_tuning_options\n",
      "database_credentials\n",
      "database_files\n",
      "database_filestream_options\n",
      "database_mirroring\n",
      "database_mirroring_endpoints\n",
      "database_mirroring_witnesses\n",
      "database_permissions\n",
      "database_principals\n",
      "database_query_store_options\n",
      "database_recovery_status\n",
      "database_role_members\n",
      "database_scoped_configurations\n",
      "database_scoped_credentials\n",
      "databases\n",
      "default_constraints\n",
      "destination_data_spaces\n",
      "dm_audit_actions\n",
      "dm_audit_class_type_map\n",
      "dm_broker_activated_tasks\n",
      "dm_broker_connections\n",
      "dm_broker_forwarded_messages\n",
      "dm_broker_queue_monitors\n",
      "dm_cdc_errors\n",
      "dm_cdc_log_scan_sessions\n",
      "dm_clr_appdomains\n",
      "dm_clr_loaded_assemblies\n",
      "dm_clr_properties\n",
      "dm_clr_tasks\n",
      "dm_column_store_object_pool\n",
      "dm_cryptographic_provider_properties\n",
      "dm_database_encryption_keys\n",
      "dm_db_column_store_row_group_operational_stats\n",
      "dm_db_column_store_row_group_physical_stats\n",
      "dm_db_file_space_usage\n",
      "dm_db_fts_index_physical_stats\n",
      "dm_db_index_usage_stats\n",
      "dm_db_log_space_usage\n",
      "dm_db_mirroring_auto_page_repair\n",
      "dm_db_mirroring_connections\n",
      "dm_db_mirroring_past_actions\n",
      "dm_db_missing_index_details\n",
      "dm_db_missing_index_group_stats\n",
      "dm_db_missing_index_groups\n",
      "dm_db_partition_stats\n",
      "dm_db_persisted_sku_features\n",
      "dm_db_rda_migration_status\n",
      "dm_db_rda_schema_update_status\n",
      "dm_db_script_level\n",
      "dm_db_session_space_usage\n",
      "dm_db_task_space_usage\n",
      "dm_db_tuning_recommendations\n",
      "dm_db_uncontained_entities\n",
      "dm_db_xtp_checkpoint_files\n",
      "dm_db_xtp_checkpoint_internals\n",
      "dm_db_xtp_checkpoint_stats\n",
      "dm_db_xtp_gc_cycle_stats\n",
      "dm_db_xtp_hash_index_stats\n",
      "dm_db_xtp_index_stats\n",
      "dm_db_xtp_memory_consumers\n",
      "dm_db_xtp_nonclustered_index_stats\n",
      "dm_db_xtp_object_stats\n",
      "dm_db_xtp_table_memory_stats\n",
      "dm_db_xtp_transactions\n",
      "dm_exec_background_job_queue\n",
      "dm_exec_background_job_queue_stats\n",
      "dm_exec_cached_plans\n",
      "dm_exec_compute_node_errors\n",
      "dm_exec_compute_node_status\n",
      "dm_exec_compute_nodes\n",
      "dm_exec_connections\n",
      "dm_exec_distributed_request_steps\n",
      "dm_exec_distributed_requests\n",
      "dm_exec_distributed_sql_requests\n",
      "dm_exec_dms_services\n",
      "dm_exec_dms_workers\n",
      "dm_exec_external_operations\n",
      "dm_exec_external_work\n",
      "dm_exec_function_stats\n",
      "dm_exec_procedure_stats\n",
      "dm_exec_query_memory_grants\n",
      "dm_exec_query_optimizer_info\n",
      "dm_exec_query_optimizer_memory_gateways\n",
      "dm_exec_query_parallel_workers\n",
      "dm_exec_query_profiles\n",
      "dm_exec_query_resource_semaphores\n",
      "dm_exec_query_stats\n",
      "dm_exec_query_transformation_stats\n",
      "dm_exec_requests\n",
      "dm_exec_session_wait_stats\n",
      "dm_exec_sessions\n",
      "dm_exec_trigger_stats\n",
      "dm_exec_valid_use_hints\n",
      "dm_external_script_execution_stats\n",
      "dm_external_script_requests\n",
      "dm_filestream_file_io_handles\n",
      "dm_filestream_file_io_requests\n",
      "dm_filestream_non_transacted_handles\n",
      "dm_fts_active_catalogs\n",
      "dm_fts_fdhosts\n",
      "dm_fts_index_population\n",
      "dm_fts_memory_buffers\n",
      "dm_fts_memory_pools\n",
      "dm_fts_outstanding_batches\n",
      "dm_fts_population_ranges\n",
      "dm_fts_semantic_similarity_population\n",
      "dm_hadr_auto_page_repair\n",
      "dm_hadr_automatic_seeding\n",
      "dm_hadr_availability_group_states\n",
      "dm_hadr_availability_replica_cluster_nodes\n",
      "dm_hadr_availability_replica_cluster_states\n",
      "dm_hadr_availability_replica_states\n",
      "dm_hadr_cluster\n",
      "dm_hadr_cluster_members\n",
      "dm_hadr_cluster_networks\n",
      "dm_hadr_database_replica_cluster_states\n",
      "dm_hadr_database_replica_states\n",
      "dm_hadr_instance_node_map\n",
      "dm_hadr_name_id_map\n",
      "dm_hadr_physical_seeding_stats\n",
      "dm_io_backup_tapes\n",
      "dm_io_cluster_shared_drives\n",
      "dm_io_cluster_valid_path_names\n",
      "dm_io_pending_io_requests\n",
      "dm_logpool_hashentries\n",
      "dm_logpool_stats\n",
      "dm_os_buffer_descriptors\n",
      "dm_os_buffer_pool_extension_configuration\n",
      "dm_os_child_instances\n",
      "dm_os_cluster_nodes\n",
      "dm_os_cluster_properties\n",
      "dm_os_dispatcher_pools\n",
      "dm_os_dispatchers\n",
      "dm_os_enumerate_fixed_drives\n",
      "dm_os_host_info\n",
      "dm_os_hosts\n",
      "dm_os_latch_stats\n",
      "dm_os_loaded_modules\n",
      "dm_os_memory_allocations\n",
      "dm_os_memory_broker_clerks\n",
      "dm_os_memory_brokers\n",
      "dm_os_memory_cache_clock_hands\n",
      "dm_os_memory_cache_counters\n",
      "dm_os_memory_cache_entries\n",
      "dm_os_memory_cache_hash_tables\n",
      "dm_os_memory_clerks\n",
      "dm_os_memory_node_access_stats\n",
      "dm_os_memory_nodes\n",
      "dm_os_memory_objects\n",
      "dm_os_memory_pools\n",
      "dm_os_nodes\n",
      "dm_os_performance_counters\n",
      "dm_os_process_memory\n",
      "dm_os_ring_buffers\n",
      "dm_os_schedulers\n",
      "dm_os_server_diagnostics_log_configurations\n",
      "dm_os_spinlock_stats\n",
      "dm_os_stacks\n",
      "dm_os_sublatches\n",
      "dm_os_sys_info\n",
      "dm_os_sys_memory\n",
      "dm_os_tasks\n",
      "dm_os_threads\n",
      "dm_os_virtual_address_dump\n",
      "dm_os_wait_stats\n",
      "dm_os_waiting_tasks\n",
      "dm_os_windows_info\n",
      "dm_os_worker_local_storage\n",
      "dm_os_workers\n",
      "dm_qn_subscriptions\n",
      "dm_repl_articles\n",
      "dm_repl_schemas\n",
      "dm_repl_tranhash\n",
      "dm_repl_traninfo\n",
      "dm_resource_governor_configuration\n",
      "dm_resource_governor_external_resource_pool_affinity\n",
      "dm_resource_governor_external_resource_pools\n",
      "dm_resource_governor_resource_pool_affinity\n",
      "dm_resource_governor_resource_pool_volumes\n",
      "dm_resource_governor_resource_pools\n",
      "dm_resource_governor_workload_groups\n",
      "dm_server_audit_status\n",
      "dm_server_memory_dumps\n",
      "dm_server_registry\n",
      "dm_server_services\n",
      "dm_tcp_listener_states\n",
      "dm_tran_active_snapshot_database_transactions\n",
      "dm_tran_active_transactions\n",
      "dm_tran_commit_table\n",
      "dm_tran_current_snapshot\n",
      "dm_tran_current_transaction\n",
      "dm_tran_database_transactions\n",
      "dm_tran_global_recovery_transactions\n",
      "dm_tran_global_transactions\n",
      "dm_tran_global_transactions_enlistments\n",
      "dm_tran_global_transactions_log\n",
      "dm_tran_locks\n",
      "dm_tran_session_transactions\n",
      "dm_tran_top_version_generators\n",
      "dm_tran_transactions_snapshot\n",
      "dm_tran_version_store\n",
      "dm_tran_version_store_space_usage\n",
      "dm_xe_map_values\n",
      "dm_xe_object_columns\n",
      "dm_xe_objects\n",
      "dm_xe_packages\n",
      "dm_xe_session_event_actions\n",
      "dm_xe_session_events\n",
      "dm_xe_session_object_columns\n",
      "dm_xe_session_targets\n",
      "dm_xe_sessions\n",
      "dm_xtp_gc_queue_stats\n",
      "dm_xtp_gc_stats\n",
      "dm_xtp_system_memory_consumers\n",
      "dm_xtp_threads\n",
      "dm_xtp_transaction_recent_rows\n",
      "dm_xtp_transaction_stats\n",
      "endpoint_webmethods\n",
      "endpoints\n",
      "event_notification_event_types\n",
      "event_notifications\n",
      "events\n",
      "extended_procedures\n",
      "extended_properties\n",
      "external_data_sources\n",
      "external_file_formats\n",
      "external_libraries\n",
      "external_library_files\n",
      "external_tables\n",
      "filegroups\n",
      "filetable_system_defined_objects\n",
      "filetables\n",
      "foreign_key_columns\n",
      "foreign_keys\n",
      "fulltext_catalogs\n",
      "fulltext_document_types\n",
      "fulltext_index_catalog_usages\n",
      "fulltext_index_columns\n",
      "fulltext_index_fragments\n",
      "fulltext_indexes\n",
      "fulltext_languages\n",
      "fulltext_semantic_language_statistics_database\n",
      "fulltext_semantic_languages\n",
      "fulltext_stoplists\n",
      "fulltext_stopwords\n",
      "fulltext_system_stopwords\n",
      "function_order_columns\n",
      "hash_indexes\n",
      "http_endpoints\n",
      "identity_columns\n",
      "index_columns\n",
      "index_resumable_operations\n",
      "indexes\n",
      "internal_partitions\n",
      "internal_tables\n",
      "key_constraints\n",
      "key_encryptions\n",
      "linked_logins\n",
      "login_token\n",
      "masked_columns\n",
      "master_files\n",
      "master_key_passwords\n",
      "memory_optimized_tables_internal_attributes\n",
      "message_type_xml_schema_collection_usages\n",
      "messages\n",
      "module_assembly_usages\n",
      "numbered_procedure_parameters\n",
      "numbered_procedures\n",
      "objects\n",
      "openkeys\n",
      "parameter_type_usages\n",
      "parameter_xml_schema_collection_usages\n",
      "parameters\n",
      "partition_functions\n",
      "partition_parameters\n",
      "partition_range_values\n",
      "partition_schemes\n",
      "partitions\n",
      "periods\n",
      "plan_guides\n",
      "procedures\n",
      "query_context_settings\n",
      "query_store_plan\n",
      "query_store_query\n",
      "query_store_query_text\n",
      "query_store_runtime_stats\n",
      "query_store_runtime_stats_interval\n",
      "query_store_wait_stats\n",
      "registered_search_properties\n",
      "registered_search_property_lists\n",
      "remote_data_archive_databases\n",
      "remote_data_archive_tables\n",
      "remote_logins\n",
      "remote_service_bindings\n",
      "resource_governor_configuration\n",
      "resource_governor_external_resource_pool_affinity\n",
      "resource_governor_external_resource_pools\n",
      "resource_governor_resource_pool_affinity\n",
      "resource_governor_resource_pools\n",
      "resource_governor_workload_groups\n",
      "routes\n",
      "schemas\n",
      "securable_classes\n",
      "security_policies\n",
      "security_predicates\n",
      "selective_xml_index_namespaces\n",
      "selective_xml_index_paths\n",
      "sequences\n",
      "server_assembly_modules\n",
      "server_audit_specification_details\n",
      "server_audit_specifications\n",
      "server_audits\n",
      "server_event_notifications\n",
      "server_event_session_actions\n",
      "server_event_session_events\n",
      "server_event_session_fields\n",
      "server_event_session_targets\n",
      "server_event_sessions\n",
      "server_events\n",
      "server_file_audits\n",
      "server_permissions\n",
      "server_principal_credentials\n",
      "server_principals\n",
      "server_role_members\n",
      "server_sql_modules\n",
      "server_trigger_events\n",
      "server_triggers\n",
      "servers\n",
      "service_broker_endpoints\n",
      "service_contract_message_usages\n",
      "service_contract_usages\n",
      "service_contracts\n",
      "service_message_types\n",
      "service_queue_usages\n",
      "service_queues\n",
      "services\n",
      "soap_endpoints\n",
      "spatial_index_tessellations\n",
      "spatial_indexes\n",
      "spatial_reference_systems\n",
      "sql_dependencies\n",
      "sql_expression_dependencies\n",
      "sql_logins\n",
      "sql_modules\n",
      "stats\n",
      "stats_columns\n",
      "symmetric_keys\n",
      "synonyms\n",
      "sysaltfiles\n",
      "syscacheobjects\n",
      "syscharsets\n",
      "syscolumns\n",
      "syscomments\n",
      "sysconfigures\n",
      "sysconstraints\n",
      "syscscontainers\n",
      "syscurconfigs\n",
      "syscursorcolumns\n",
      "syscursorrefs\n",
      "syscursors\n",
      "syscursortables\n",
      "sysdatabases\n",
      "sysdepends\n",
      "sysdevices\n",
      "sysfilegroups\n",
      "sysfiles\n",
      "sysforeignkeys\n",
      "sysfulltextcatalogs\n",
      "sysindexes\n",
      "sysindexkeys\n",
      "syslanguages\n",
      "syslockinfo\n",
      "syslogins\n",
      "sysmembers\n",
      "sysmessages\n",
      "sysobjects\n",
      "sysoledbusers\n",
      "sysopentapes\n",
      "sysperfinfo\n",
      "syspermissions\n",
      "sysprocesses\n",
      "sysprotects\n",
      "sysreferences\n",
      "sysremotelogins\n",
      "sysservers\n",
      "system_columns\n",
      "system_components_surface_area_configuration\n",
      "system_internals_allocation_units\n",
      "system_internals_partition_columns\n",
      "system_internals_partitions\n",
      "system_objects\n",
      "system_parameters\n",
      "system_sql_modules\n",
      "system_views\n",
      "systypes\n",
      "sysusers\n",
      "table_types\n",
      "tables\n",
      "tcp_endpoints\n",
      "time_zone_info\n",
      "trace_categories\n",
      "trace_columns\n",
      "trace_event_bindings\n",
      "trace_events\n",
      "trace_subclass_values\n",
      "traces\n",
      "transmission_queue\n",
      "trigger_event_types\n",
      "trigger_events\n",
      "triggers\n",
      "trusted_assemblies\n",
      "type_assembly_usages\n",
      "types\n",
      "user_token\n",
      "via_endpoints\n",
      "views\n",
      "xml_indexes\n",
      "xml_schema_attributes\n",
      "xml_schema_collections\n",
      "xml_schema_component_placements\n",
      "xml_schema_components\n",
      "xml_schema_elements\n",
      "xml_schema_facets\n",
      "xml_schema_model_groups\n",
      "xml_schema_namespaces\n",
      "xml_schema_types\n",
      "xml_schema_wildcard_namespaces\n",
      "xml_schema_wildcards\n"
     ]
    }
   ],
   "source": [
    "for row in cursor.tables():\n",
    "    print (row.table_name)"
   ]
  },
  {
   "cell_type": "code",
   "execution_count": 4,
   "metadata": {
    "ExecuteTime": {
     "end_time": "2019-05-06T09:56:24.249685Z",
     "start_time": "2019-05-06T09:56:23.681692Z"
    }
   },
   "outputs": [],
   "source": [
    "import pandas as pd"
   ]
  },
  {
   "cell_type": "markdown",
   "metadata": {},
   "source": [
    "# Fetching tables from DB into Pandas df"
   ]
  },
  {
   "cell_type": "code",
   "execution_count": 5,
   "metadata": {
    "ExecuteTime": {
     "end_time": "2019-05-06T09:54:55.610808Z",
     "start_time": "2019-05-06T09:54:55.512936Z"
    }
   },
   "outputs": [],
   "source": [
    "df = pd.read_sql_query(\"SELECT * FROM data_modeling.dbo.dim_marketing;\", con= conn )"
   ]
  },
  {
   "cell_type": "code",
   "execution_count": 6,
   "metadata": {
    "ExecuteTime": {
     "end_time": "2019-05-06T09:54:56.432292Z",
     "start_time": "2019-05-06T09:54:56.410351Z"
    }
   },
   "outputs": [
    {
     "data": {
      "text/html": [
       "<div>\n",
       "<style scoped>\n",
       "    .dataframe tbody tr th:only-of-type {\n",
       "        vertical-align: middle;\n",
       "    }\n",
       "\n",
       "    .dataframe tbody tr th {\n",
       "        vertical-align: top;\n",
       "    }\n",
       "\n",
       "    .dataframe thead th {\n",
       "        text-align: right;\n",
       "    }\n",
       "</style>\n",
       "<table border=\"1\" class=\"dataframe\">\n",
       "  <thead>\n",
       "    <tr style=\"text-align: right;\">\n",
       "      <th></th>\n",
       "      <th>CompanyId</th>\n",
       "      <th>CompanyShort</th>\n",
       "      <th>Company</th>\n",
       "      <th>PlanDate</th>\n",
       "      <th>ChannelPlanning</th>\n",
       "      <th>Channel</th>\n",
       "      <th>Country</th>\n",
       "      <th>PlanRevenueBeforeReturnsIntern</th>\n",
       "      <th>PlanRevenueAfterReturnsIntern</th>\n",
       "      <th>PlanRevenueAfterReturnsExtern</th>\n",
       "    </tr>\n",
       "  </thead>\n",
       "  <tbody>\n",
       "  </tbody>\n",
       "</table>\n",
       "</div>"
      ],
      "text/plain": [
       "Empty DataFrame\n",
       "Columns: [CompanyId, CompanyShort, Company, PlanDate, ChannelPlanning, Channel, Country, PlanRevenueBeforeReturnsIntern, PlanRevenueAfterReturnsIntern, PlanRevenueAfterReturnsExtern]\n",
       "Index: []"
      ]
     },
     "execution_count": 6,
     "metadata": {},
     "output_type": "execute_result"
    }
   ],
   "source": [
    "df.head()"
   ]
  },
  {
   "cell_type": "code",
   "execution_count": 57,
   "metadata": {
    "ExecuteTime": {
     "end_time": "2019-05-04T12:40:23.034567Z",
     "start_time": "2019-05-04T12:40:22.992175Z"
    }
   },
   "outputs": [],
   "source": [
    "churn = pd.read_csv(\"/Users/aakas/Desktop/Datanomiq_projects/DS_Trainings/Mister_Spex/Week4_20190418/Churn_Modelling.csv\")"
   ]
  },
  {
   "cell_type": "code",
   "execution_count": 72,
   "metadata": {
    "ExecuteTime": {
     "end_time": "2019-05-04T13:09:20.947041Z",
     "start_time": "2019-05-04T13:09:20.939518Z"
    }
   },
   "outputs": [],
   "source": [
    "df = churn.head(100)"
   ]
  },
  {
   "cell_type": "code",
   "execution_count": 73,
   "metadata": {
    "ExecuteTime": {
     "end_time": "2019-05-04T13:09:21.408688Z",
     "start_time": "2019-05-04T13:09:21.402447Z"
    }
   },
   "outputs": [
    {
     "data": {
      "text/plain": [
       "(100, 14)"
      ]
     },
     "execution_count": 73,
     "metadata": {},
     "output_type": "execute_result"
    }
   ],
   "source": [
    "df.shape"
   ]
  },
  {
   "cell_type": "code",
   "execution_count": 74,
   "metadata": {
    "ExecuteTime": {
     "end_time": "2019-05-04T13:09:21.941957Z",
     "start_time": "2019-05-04T13:09:21.936020Z"
    }
   },
   "outputs": [],
   "source": [
    "from sqlalchemy import create_engine, MetaData, Table, select\n",
    "from six.moves import urllib"
   ]
  },
  {
   "cell_type": "code",
   "execution_count": 75,
   "metadata": {
    "ExecuteTime": {
     "end_time": "2019-05-04T13:09:22.270003Z",
     "start_time": "2019-05-04T13:09:22.262941Z"
    }
   },
   "outputs": [],
   "source": [
    "params = urllib.parse.quote_plus(\"DRIVER={SQL Server Native Client 11.0};SERVER=localhost;DATABASE=data_modeling;Trusted_Connection=yes\")\n",
    "engine = create_engine(\"mssql+pyodbc:///?odbc_connect=%s\" % params) "
   ]
  },
  {
   "cell_type": "markdown",
   "metadata": {
    "ExecuteTime": {
     "end_time": "2019-05-04T13:09:22.591591Z",
     "start_time": "2019-05-04T13:09:22.583546Z"
    }
   },
   "source": [
    "# Transfering dataframe to SQL server "
   ]
  },
  {
   "cell_type": "raw",
   "metadata": {},
   "source": [
    "Step 1: Create table in SQL server with exact column names and column type \n",
    "Step 2: Refresh SQL database and match the structure of DB table and"
   ]
  },
  {
   "cell_type": "code",
   "execution_count": 77,
   "metadata": {
    "ExecuteTime": {
     "end_time": "2019-05-04T13:09:24.694691Z",
     "start_time": "2019-05-04T13:09:22.944587Z"
    }
   },
   "outputs": [],
   "source": [
    "engine.connect() \n",
    "# suppose df is the data-frame that we want to insert in database\n",
    "df.to_sql(name='churn',con=engine, index=False, if_exists='replace')"
   ]
  }
 ],
 "metadata": {
  "kernelspec": {
   "display_name": "Python 3",
   "language": "python",
   "name": "python3"
  },
  "language_info": {
   "codemirror_mode": {
    "name": "ipython",
    "version": 3
   },
   "file_extension": ".py",
   "mimetype": "text/x-python",
   "name": "python",
   "nbconvert_exporter": "python",
   "pygments_lexer": "ipython3",
   "version": "3.6.5"
  },
  "nbTranslate": {
   "displayLangs": [
    "*"
   ],
   "hotkey": "alt-t",
   "langInMainMenu": true,
   "sourceLang": "en",
   "targetLang": "fr",
   "useGoogleTranslate": true
  },
  "toc": {
   "base_numbering": 1,
   "nav_menu": {},
   "number_sections": true,
   "sideBar": true,
   "skip_h1_title": false,
   "title_cell": "Table of Contents",
   "title_sidebar": "Contents",
   "toc_cell": false,
   "toc_position": {},
   "toc_section_display": true,
   "toc_window_display": false
  }
 },
 "nbformat": 4,
 "nbformat_minor": 2
}
